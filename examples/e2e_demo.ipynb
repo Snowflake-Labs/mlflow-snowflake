{
 "cells": [
  {
   "cell_type": "markdown",
   "id": "d6ba6881",
   "metadata": {},
   "source": [
    "# E2E Demo\n",
    "\n",
    "Please ensure you've installed MLflow and the Snowflake Deployment Plugin first."
   ]
  },
  {
   "cell_type": "markdown",
   "id": "3be52e08",
   "metadata": {},
   "source": [
    "## Train a model packaged by MLflow First"
   ]
  },
  {
   "cell_type": "code",
   "execution_count": 2,
   "id": "246625c2",
   "metadata": {},
   "outputs": [
    {
     "data": {
      "text/html": [
       "<div>\n",
       "<style scoped>\n",
       "    .dataframe tbody tr th:only-of-type {\n",
       "        vertical-align: middle;\n",
       "    }\n",
       "\n",
       "    .dataframe tbody tr th {\n",
       "        vertical-align: top;\n",
       "    }\n",
       "\n",
       "    .dataframe thead th {\n",
       "        text-align: right;\n",
       "    }\n",
       "</style>\n",
       "<table border=\"1\" class=\"dataframe\">\n",
       "  <thead>\n",
       "    <tr style=\"text-align: right;\">\n",
       "      <th></th>\n",
       "      <th>fixed_acidity</th>\n",
       "      <th>volatile_acidity</th>\n",
       "      <th>citric_acid</th>\n",
       "      <th>residual_sugar</th>\n",
       "      <th>chlorides</th>\n",
       "      <th>free_sulfur_dioxide</th>\n",
       "      <th>total_sulfur_dioxide</th>\n",
       "      <th>density</th>\n",
       "      <th>pH</th>\n",
       "      <th>sulphates</th>\n",
       "      <th>alcohol</th>\n",
       "      <th>quality</th>\n",
       "    </tr>\n",
       "  </thead>\n",
       "  <tbody>\n",
       "    <tr>\n",
       "      <th>0</th>\n",
       "      <td>7.4</td>\n",
       "      <td>0.70</td>\n",
       "      <td>0.00</td>\n",
       "      <td>1.9</td>\n",
       "      <td>0.076</td>\n",
       "      <td>11.0</td>\n",
       "      <td>34.0</td>\n",
       "      <td>0.9978</td>\n",
       "      <td>3.51</td>\n",
       "      <td>0.56</td>\n",
       "      <td>9.4</td>\n",
       "      <td>5</td>\n",
       "    </tr>\n",
       "    <tr>\n",
       "      <th>1</th>\n",
       "      <td>7.8</td>\n",
       "      <td>0.88</td>\n",
       "      <td>0.00</td>\n",
       "      <td>2.6</td>\n",
       "      <td>0.098</td>\n",
       "      <td>25.0</td>\n",
       "      <td>67.0</td>\n",
       "      <td>0.9968</td>\n",
       "      <td>3.20</td>\n",
       "      <td>0.68</td>\n",
       "      <td>9.8</td>\n",
       "      <td>5</td>\n",
       "    </tr>\n",
       "    <tr>\n",
       "      <th>2</th>\n",
       "      <td>7.8</td>\n",
       "      <td>0.76</td>\n",
       "      <td>0.04</td>\n",
       "      <td>2.3</td>\n",
       "      <td>0.092</td>\n",
       "      <td>15.0</td>\n",
       "      <td>54.0</td>\n",
       "      <td>0.9970</td>\n",
       "      <td>3.26</td>\n",
       "      <td>0.65</td>\n",
       "      <td>9.8</td>\n",
       "      <td>5</td>\n",
       "    </tr>\n",
       "    <tr>\n",
       "      <th>3</th>\n",
       "      <td>11.2</td>\n",
       "      <td>0.28</td>\n",
       "      <td>0.56</td>\n",
       "      <td>1.9</td>\n",
       "      <td>0.075</td>\n",
       "      <td>17.0</td>\n",
       "      <td>60.0</td>\n",
       "      <td>0.9980</td>\n",
       "      <td>3.16</td>\n",
       "      <td>0.58</td>\n",
       "      <td>9.8</td>\n",
       "      <td>6</td>\n",
       "    </tr>\n",
       "    <tr>\n",
       "      <th>4</th>\n",
       "      <td>7.4</td>\n",
       "      <td>0.70</td>\n",
       "      <td>0.00</td>\n",
       "      <td>1.9</td>\n",
       "      <td>0.076</td>\n",
       "      <td>11.0</td>\n",
       "      <td>34.0</td>\n",
       "      <td>0.9978</td>\n",
       "      <td>3.51</td>\n",
       "      <td>0.56</td>\n",
       "      <td>9.4</td>\n",
       "      <td>5</td>\n",
       "    </tr>\n",
       "  </tbody>\n",
       "</table>\n",
       "</div>"
      ],
      "text/plain": [
       "   fixed_acidity  volatile_acidity  citric_acid  residual_sugar  chlorides  \\\n",
       "0            7.4              0.70         0.00             1.9      0.076   \n",
       "1            7.8              0.88         0.00             2.6      0.098   \n",
       "2            7.8              0.76         0.04             2.3      0.092   \n",
       "3           11.2              0.28         0.56             1.9      0.075   \n",
       "4            7.4              0.70         0.00             1.9      0.076   \n",
       "\n",
       "   free_sulfur_dioxide  total_sulfur_dioxide  density    pH  sulphates  \\\n",
       "0                 11.0                  34.0   0.9978  3.51       0.56   \n",
       "1                 25.0                  67.0   0.9968  3.20       0.68   \n",
       "2                 15.0                  54.0   0.9970  3.26       0.65   \n",
       "3                 17.0                  60.0   0.9980  3.16       0.58   \n",
       "4                 11.0                  34.0   0.9978  3.51       0.56   \n",
       "\n",
       "   alcohol  quality  \n",
       "0      9.4        5  \n",
       "1      9.8        5  \n",
       "2      9.8        5  \n",
       "3      9.8        6  \n",
       "4      9.4        5  "
      ]
     },
     "execution_count": 2,
     "metadata": {},
     "output_type": "execute_result"
    }
   ],
   "source": [
    "import pandas as pd\n",
    "red_wine = pd.read_csv(\"https://archive.ics.uci.edu/ml/machine-learning-databases/wine-quality/winequality-red.csv\", sep=';')\n",
    "data = red_wine\n",
    "data.rename(columns=lambda x: x.replace(' ', '_'), inplace=True)\n",
    "data.head()"
   ]
  },
  {
   "cell_type": "code",
   "execution_count": 3,
   "id": "771f6f68",
   "metadata": {},
   "outputs": [],
   "source": [
    "from sklearn.model_selection import train_test_split\n",
    "X = data.drop([\"quality\"], axis=1)\n",
    "y = data.quality\n",
    "# Split out the training data\n",
    "X_train, X_rem, y_train, y_rem = train_test_split(X, y, train_size=0.6, random_state=123)\n",
    "# Split the remaining data equally into validation and test\n",
    "X_val, X_test, y_val, y_test = train_test_split(X_rem, y_rem, test_size=0.5, random_state=123)"
   ]
  },
  {
   "cell_type": "code",
   "execution_count": null,
   "id": "8a9a00ad",
   "metadata": {},
   "outputs": [],
   "source": [
    "import mlflow\n",
    "import mlflow.pyfunc\n",
    "import mlflow.sklearn\n",
    "import numpy as np\n",
    "import sklearn\n",
    "from sklearn.ensemble import RandomForestClassifier\n",
    "from sklearn.metrics import roc_auc_score\n",
    "from mlflow.models.signature import infer_signature\n",
    "from mlflow.utils.environment import _mlflow_conda_env\n",
    "import cloudpickle\n",
    "import time\n",
    "\n",
    "experiment_name = f\"Wine Quality Demo {int(time.time())}\"\n",
    "experiment_id = mlflow.create_experiment(experiment_name)\n",
    "run_name = 'random_forest_model'\n",
    "model_name = 'random_forest_model'\n",
    "\n",
    "with mlflow.start_run(experiment_id=experiment_id, run_name=run_name):\n",
    "  n_estimators = 10\n",
    "  model = RandomForestClassifier(n_estimators=n_estimators, random_state=np.random.RandomState(123))\n",
    "  model.fit(X_train, y_train)\n",
    " \n",
    "  predictions_test = model.predict_proba(X_test)\n",
    "  auc_score = roc_auc_score(y_test, predictions_test, multi_class=\"ovo\", labels=model.classes_)\n",
    "  mlflow.log_param('n_estimators', n_estimators)\n",
    "  mlflow.log_metric('auc', auc_score)\n",
    "  signature = infer_signature(X_train, model.predict(X_train))\n",
    "  conda_env = _mlflow_conda_env(\n",
    "        additional_conda_deps=None,\n",
    "        additional_pip_deps=[\"cloudpickle=={}\".format(cloudpickle.__version__), \"scikit-learn=={}\".format(sklearn.__version__)],\n",
    "        additional_conda_channels=None,\n",
    "    )\n",
    "  mlflow.sklearn.log_model(model, model_name, conda_env=conda_env, signature=signature)"
   ]
  },
  {
   "cell_type": "code",
   "execution_count": null,
   "id": "a4aca425",
   "metadata": {
    "scrolled": false
   },
   "outputs": [],
   "source": [
    "last_run = mlflow.search_runs(experiment_ids=[experiment_id], \\\n",
    "                               filter_string=f'tags.mlflow.runName = \"{run_name}\"', \\\n",
    "                               order_by=[\"metrics.auc DESC\"]).iloc[0]\n",
    "last_run"
   ]
  },
  {
   "cell_type": "markdown",
   "id": "25dc4c9b",
   "metadata": {},
   "source": [
    "## Usage of Snowflake Deployment Plugin"
   ]
  },
  {
   "cell_type": "code",
   "execution_count": 6,
   "id": "612b99c8",
   "metadata": {},
   "outputs": [],
   "source": [
    "from snowflake.snowpark import Session\n",
    "import os\n",
    "connection_params = {\n",
    "\n",
    "}\n",
    "test_session = Session.builder.configs(connection_params).create()\n"
   ]
  },
  {
   "cell_type": "code",
   "execution_count": 7,
   "id": "bd5ca10f",
   "metadata": {},
   "outputs": [
    {
     "data": {
      "text/plain": [
       "'runs:/7420606e216741d7ad60e7d238478c14/random_forest_model'"
      ]
     },
     "execution_count": 7,
     "metadata": {},
     "output_type": "execute_result"
    }
   ],
   "source": [
    "model_uri = f\"runs:/{last_run['run_id']}/random_forest_model\"\n",
    "model_uri"
   ]
  },
  {
   "cell_type": "code",
   "execution_count": 8,
   "id": "6fa6e82d",
   "metadata": {},
   "outputs": [],
   "source": [
    "from snowflake.ml.mlflow import set_session\n",
    "set_session(test_session)\n",
    "from mlflow.deployments import get_deploy_client\n",
    "client = get_deploy_client('snowflake')"
   ]
  },
  {
   "cell_type": "code",
   "execution_count": null,
   "id": "ef417c28",
   "metadata": {},
   "outputs": [],
   "source": [
    "client.create_deployment(\n",
    "    name='wine_quality_model', \n",
    "    model_uri=model_uri,\n",
    ")"
   ]
  },
  {
   "cell_type": "code",
   "execution_count": 10,
   "id": "89307c9a",
   "metadata": {},
   "outputs": [
    {
     "data": {
      "text/plain": [
       "[{'name': 'MLFLOW$WINE_QUALITY_MODEL',\n",
       "  'signature': 'MLFLOW$WINE_QUALITY_MODEL(FLOAT, FLOAT, FLOAT, FLOAT, FLOAT, FLOAT, FLOAT, FLOAT, FLOAT, FLOAT, FLOAT)'}]"
      ]
     },
     "execution_count": 10,
     "metadata": {},
     "output_type": "execute_result"
    }
   ],
   "source": [
    "client.list_deployments()"
   ]
  },
  {
   "cell_type": "code",
   "execution_count": 11,
   "id": "185a14c8",
   "metadata": {
    "scrolled": false
   },
   "outputs": [
    {
     "data": {
      "text/plain": [
       "{'name': 'wine_quality_model',\n",
       " 'signature': 'MLFLOW$WINE_QUALITY_MODEL(FLOAT, FLOAT, FLOAT, FLOAT, FLOAT, FLOAT, FLOAT, FLOAT, FLOAT, FLOAT, FLOAT)'}"
      ]
     },
     "execution_count": 11,
     "metadata": {},
     "output_type": "execute_result"
    }
   ],
   "source": [
    "client.get_deployment(name='wine_quality_model')"
   ]
  },
  {
   "cell_type": "code",
   "execution_count": 13,
   "id": "441ca7be",
   "metadata": {},
   "outputs": [
    {
     "data": {
      "text/html": [
       "<div>\n",
       "<style scoped>\n",
       "    .dataframe tbody tr th:only-of-type {\n",
       "        vertical-align: middle;\n",
       "    }\n",
       "\n",
       "    .dataframe tbody tr th {\n",
       "        vertical-align: top;\n",
       "    }\n",
       "\n",
       "    .dataframe thead th {\n",
       "        text-align: right;\n",
       "    }\n",
       "</style>\n",
       "<table border=\"1\" class=\"dataframe\">\n",
       "  <thead>\n",
       "    <tr style=\"text-align: right;\">\n",
       "      <th></th>\n",
       "      <th>MLFLOW$WINE_QUALITY_MODEL(\"FIXED_ACIDITY\", \"VOLATILE_ACIDITY\", \"CITRIC_ACID\", \"RESIDUAL_SUGAR\", \"CHLORIDES\", \"FREE_SULFUR_DIOXIDE\", \"TOTAL_SULFUR_DIOXIDE\", \"DENSITY\", \"PH\", \"SULPHATES\", \"ALCOHOL\")</th>\n",
       "    </tr>\n",
       "  </thead>\n",
       "  <tbody>\n",
       "    <tr>\n",
       "      <th>0</th>\n",
       "      <td>5</td>\n",
       "    </tr>\n",
       "    <tr>\n",
       "      <th>1</th>\n",
       "      <td>5</td>\n",
       "    </tr>\n",
       "    <tr>\n",
       "      <th>2</th>\n",
       "      <td>6</td>\n",
       "    </tr>\n",
       "    <tr>\n",
       "      <th>3</th>\n",
       "      <td>5</td>\n",
       "    </tr>\n",
       "    <tr>\n",
       "      <th>4</th>\n",
       "      <td>5</td>\n",
       "    </tr>\n",
       "  </tbody>\n",
       "</table>\n",
       "</div>"
      ],
      "text/plain": [
       "   MLFLOW$WINE_QUALITY_MODEL(\"FIXED_ACIDITY\", \"VOLATILE_ACIDITY\", \"CITRIC_ACID\", \"RESIDUAL_SUGAR\", \"CHLORIDES\", \"FREE_SULFUR_DIOXIDE\", \"TOTAL_SULFUR_DIOXIDE\", \"DENSITY\", \"PH\", \"SULPHATES\", \"ALCOHOL\")\n",
       "0                                                  5                                                                                                                                                   \n",
       "1                                                  5                                                                                                                                                   \n",
       "2                                                  6                                                                                                                                                   \n",
       "3                                                  5                                                                                                                                                   \n",
       "4                                                  5                                                                                                                                                   "
      ]
     },
     "execution_count": 13,
     "metadata": {},
     "output_type": "execute_result"
    }
   ],
   "source": [
    "client.predict(deployment_name='wine_quality_model', df=X_test.head(5))"
   ]
  }
 ],
 "metadata": {
  "kernelspec": {
   "display_name": "Python 3 (ipykernel)",
   "language": "python",
   "name": "python3"
  },
  "language_info": {
   "codemirror_mode": {
    "name": "ipython",
    "version": 3
   },
   "file_extension": ".py",
   "mimetype": "text/x-python",
   "name": "python",
   "nbconvert_exporter": "python",
   "pygments_lexer": "ipython3",
   "version": "3.8.13"
  }
 },
 "nbformat": 4,
 "nbformat_minor": 5
}
